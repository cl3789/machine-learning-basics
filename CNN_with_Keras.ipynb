{
  "nbformat": 4,
  "nbformat_minor": 0,
  "metadata": {
    "colab": {
      "provenance": [],
      "mount_file_id": "1B_bowpTdXv7Yuj02YU6zxR36akPNe9Jk",
      "authorship_tag": "ABX9TyPw0D3h4dzCB3cvbNQhCrnm",
      "include_colab_link": true
    },
    "kernelspec": {
      "name": "python3",
      "display_name": "Python 3"
    },
    "language_info": {
      "name": "python"
    },
    "accelerator": "GPU",
    "gpuClass": "standard"
  },
  "cells": [
    {
      "cell_type": "markdown",
      "metadata": {
        "id": "view-in-github",
        "colab_type": "text"
      },
      "source": [
        "<a href=\"https://colab.research.google.com/github/cl3789/machine-learning-basics/blob/main/CNN_with_Keras.ipynb\" target=\"_parent\"><img src=\"https://colab.research.google.com/assets/colab-badge.svg\" alt=\"Open In Colab\"/></a>"
      ]
    },
    {
      "cell_type": "code",
      "execution_count": null,
      "metadata": {
        "id": "0lTHp98cwEgc",
        "cellView": "form"
      },
      "outputs": [],
      "source": [
        "#@markdown import library\n",
        "\n",
        "import pandas as pd\n",
        "import numpy as np\n",
        "from numpy.random import seed\n",
        "import csv\n",
        "from scipy.io.arff import loadarff \n",
        "\n",
        "import tensorflow\n",
        "from tensorflow import keras\n",
        "from tensorflow.keras import layers\n",
        "\n",
        "\n",
        "import matplotlib.pyplot as plt\n",
        "import seaborn as sns\n",
        "\n",
        "from sklearn.metrics import confusion_matrix\n",
        "import sklearn.datasets\n",
        "\n",
        "# from nltk import word_tokenize, pos_tag\n",
        "# from nltk.stem import WordNetLemmatizer\n",
        "# from nltk.corpus import wordnet\n",
        "# import nltk\n",
        "# nltk.download('punkt')\n",
        "# from nltk import word_tokenize, pos_tag\n",
        "# from nltk.stem import WordNetLemmatizer\n",
        "# import re\n",
        "# from nltk.corpus import wordnet\n",
        "# from sklearn.feature_extraction.text import CountVectorizer, TfidfVectorizer\n",
        "\n",
        "from sklearn.feature_extraction.text import CountVectorizer, TfidfVectorizer\n",
        "from sklearn.datasets import fetch_20newsgroups\n",
        "from sklearn.base import TransformerMixin\n",
        "from sklearn.pipeline import Pipeline\n",
        "from sklearn.model_selection import GridSearchCV, train_test_split, StratifiedKFold, KFold, cross_val_score,cross_validate\n",
        "from sklearn.preprocessing import StandardScaler\n",
        "from sklearn.neural_network import MLPClassifier\n",
        "\n",
        "from keras.preprocessing.text import Tokenizer\n",
        "from keras.wrappers.scikit_learn import KerasClassifier\n",
        "from keras_preprocessing.sequence import pad_sequences\n",
        "\n"
      ]
    },
    {
      "cell_type": "code",
      "source": [
        "#@markdown Set random seed\n",
        "seed(1)\n",
        "tensorflow.random.set_seed(1)"
      ],
      "metadata": {
        "cellView": "form",
        "id": "1x1SDqQalmaS"
      },
      "execution_count": null,
      "outputs": []
    },
    {
      "cell_type": "markdown",
      "source": [
        "# Utility function for model training and plots"
      ],
      "metadata": {
        "id": "_zZJWmSYdhwu"
      }
    },
    {
      "cell_type": "code",
      "source": [
        "#@markdown show details\n",
        "def plot_gallery(title, images, image_shape, n_col, n_row, cmap=\"gray\"):\n",
        "    ## Input array \"Images\" is 2-dimensional.\n",
        "    fig, axs = plt.subplots(\n",
        "        nrows=n_row,\n",
        "        ncols=n_col,\n",
        "        figsize=(1.0 * n_col, 1.3 * n_row),\n",
        "        facecolor=\"white\",\n",
        "        constrained_layout=True,\n",
        "    )\n",
        "    fig.set_constrained_layout_pads(w_pad=0.01, h_pad=0.1, hspace=0, wspace=0)\n",
        "    fig.set_edgecolor(\"black\")\n",
        "    fig.suptitle(title, size=16)\n",
        "    for ax, img_vect in zip(axs.flat, images):\n",
        "        vmax = max(img_vect.max(), -img_vect.min())\n",
        "        im = ax.imshow(\n",
        "            img_vect.reshape(image_shape),\n",
        "            cmap=cmap,\n",
        "            #interpolation=\"nearest\",\n",
        "            vmin=-vmax,\n",
        "            vmax=vmax,\n",
        "        )\n",
        "        ax.axis(\"off\")\n",
        "\n",
        "    plt.show()\n",
        "    \n",
        "\n",
        "def plot_conf_matrix(ground_truth, prediction, classes):\n",
        "  conf_mat = confusion_matrix(ground_truth, prediction)\n",
        "  conf_mat = np.divide(conf_mat, conf_mat.sum(axis = 1))\n",
        "  conf_mat_plot = sns.heatmap(conf_mat, linewidths=.5, cmap=\"GnBu\", square=True,\n",
        "                             xticklabels=classes, yticklabels=classes, vmax = 1)\n",
        "  plt.title(\"Classification accuracy\")\n",
        "\n",
        "def model_train(model, x_train, y_train, num_epoch, batch_size, x_val=None, y_val=None):  \n",
        "  if x_val is None:\n",
        "    ## Automatically choose 20% data from x_train as validation\n",
        "    history = model.fit(x_train, y_train, \n",
        "                        epochs=num_epoch, batch_size=batch_size, \n",
        "                        verbose=1, validation_split=0.2)\n",
        "  else:\n",
        "    print(\"Please input validation data\")\n",
        "    history = model.fit(x_train, y_train,\n",
        "                        epochs=num_epoch, batch_size=batch_size,\n",
        "                        verbose=1, \n",
        "                        validation_data=(x_val, y_val))\n",
        "\n",
        "  #print(history.history.keys())\n",
        "  plt.plot(history.history['accuracy'])\n",
        "  plt.plot(history.history['val_accuracy'])\n",
        "  plt.title('model accuracy')\n",
        "  plt.ylabel('accuracy')\n",
        "  plt.xlabel('epoch')\n",
        "  plt.legend(['train', 'val'], loc='upper left')\n",
        "  plt.xticks(np.arange(0, num_epoch+1, 1))\n",
        "  plt.show()\n",
        "\n",
        "def create_mlp_word_model(vectorize_format, num_class, mlp_structure, dropout_rate, vocab_size, embedding_dim, maxlen):\n",
        "  \"\"\"Create customized MLP model\"\"\"\n",
        "  model = keras.Sequential()\n",
        "  if vectorize_format == \"sequence\":\n",
        "    model.add(layers.Embedding(input_dim = vocab_size, output_dim = embedding_dim, \n",
        "                              input_length=maxlen, trainable=True))\n",
        "    model.add(layers.GlobalMaxPooling1D())\n",
        "\n",
        "  else:\n",
        "    model.add(keras.Input(shape=(num_words, )))\n",
        "  \n",
        "  for n_units in mlp_structure:\n",
        "    model.add(layers.Dense(n_units, activation='relu'))\n",
        "    model.add(layers.Dropout(dropout_rate))\n",
        "  \n",
        "  model.add(layers.Dense(num_class, activation='softmax'))\n",
        "\n",
        "  model.compile(loss='categorical_crossentropy', \n",
        "                optimizer='adam', metrics=['accuracy'])\n",
        "  return model\n",
        "\n",
        "def param_tunning_mlp(param_grid, create_model, \n",
        "                      X_train, y_train,\n",
        "                      X_test, y_test,\n",
        "                      epochs, batch_size): \n",
        "  \"\"\"Grid Search with cross-validation for Keras MLP models\"\"\"\n",
        "  folds = KFold(n_splits = 3, shuffle = True, random_state = 1)\n",
        "  model = KerasClassifier(build_fn=create_model,\n",
        "                            epochs=epochs, batch_size=batch_size,\n",
        "                            verbose=3)\n",
        "  grid = GridSearchCV(estimator=model, param_grid=param_grid,\n",
        "                            cv=folds, verbose=3,error_score=\"raise\",\n",
        "                            return_train_score=True)\n",
        "  grid_result = grid.fit(X_train, y_train)\n",
        "\n",
        "  print(\"Mean cross-validated score of the best_estimator:\", grid_result.best_score_)\n",
        "  print(\"Best params:\", grid_result.best_params_)\n",
        "            \n",
        "  # Evaluate testing set\n",
        "  test_accuracy = grid.score(X_test, y_test)\n",
        "  print(\"Test accuracy:\", test_accuracy)\n",
        "  return grid_result"
      ],
      "metadata": {
        "id": "HaeXjAHsdgt7",
        "cellView": "form"
      },
      "execution_count": null,
      "outputs": []
    },
    {
      "cell_type": "markdown",
      "source": [
        "# Fashion MNIST"
      ],
      "metadata": {
        "id": "PbQ6HHIfKMic"
      }
    },
    {
      "cell_type": "markdown",
      "source": [
        "Codes are partially adapted from: https://keras.io/examples/vision/mnist_convnet/#train-the-model"
      ],
      "metadata": {
        "id": "N03BmQQWdALi"
      }
    },
    {
      "cell_type": "code",
      "source": [
        "## loading datasets\n",
        "(x_train, y_train), (x_test, y_test) = keras.datasets.fashion_mnist.load_data()"
      ],
      "metadata": {
        "id": "LWEg13teKJie"
      },
      "execution_count": null,
      "outputs": []
    },
    {
      "cell_type": "code",
      "source": [
        "fmnist_classes = [\"T-shirt/top\", \"Trouser\", \"Pullover\", \"Dress\", \"Coat\", \n",
        "                  \"Sandal\", \"Shirt\", \"Sneaker\", \"Bag\", \"Ankle boot\"]\n",
        "\n",
        "fmnist_num_classes = len(fmnist_classes)"
      ],
      "metadata": {
        "id": "GwxzdOBAQ8W_"
      },
      "execution_count": null,
      "outputs": []
    },
    {
      "cell_type": "code",
      "source": [
        "#@markdown Show some examples in the training\n",
        "plot_gallery(\"Samples of training\", x_train[:10], (28,28),5, 2)\n",
        "print(\"Corresponding labels:\")\n",
        "for i in y_train[:10]:\n",
        "  print(fmnist_classes[i])"
      ],
      "metadata": {
        "colab": {
          "base_uri": "https://localhost:8080/",
          "height": 395
        },
        "cellView": "form",
        "id": "rVCot4F5KKqs",
        "outputId": "4501e328-d2d2-4ea7-bafa-134e82bf05d1"
      },
      "execution_count": null,
      "outputs": [
        {
          "output_type": "display_data",
          "data": {
            "text/plain": [
              "<Figure size 360x187.2 with 10 Axes>"
            ],
            "image/png": "[encoded data removed]"
          },
          "metadata": {}
        },
        {
          "output_type": "stream",
          "name": "stdout",
          "text": [
            "Corresponding labels:\n",
            "Ankle boot\n",
            "T-shirt/top\n",
            "T-shirt/top\n",
            "Dress\n",
            "T-shirt/top\n",
            "Pullover\n",
            "Sneaker\n",
            "Pullover\n",
            "Sandal\n",
            "Sandal\n"
          ]
        }
      ]
    },
    {
      "cell_type": "code",
      "source": [
        "#@markdown Preprocess data\n",
        "\n",
        "# Scale images to the [0, 1] range\n",
        "x_train = x_train.astype(\"float32\") / 255\n",
        "x_test = x_test.astype(\"float32\") / 255\n",
        "\n",
        "# Make sure images have shape (28, 28, 1)\n",
        "x_train = np.expand_dims(x_train, -1)\n",
        "x_test = np.expand_dims(x_test, -1)\n",
        "print(\"x_train shape:\", x_train.shape)\n",
        "print(x_train.shape[0], \"train samples\")\n",
        "print(x_test.shape[0], \"test samples\")\n",
        "\n",
        "# convert class vectors to one-hot vectors\n",
        "y_train_onehot = keras.utils.to_categorical(y_train, fmnist_num_classes)\n",
        "y_test_onehot = keras.utils.to_categorical(y_test, fmnist_num_classes)"
      ],
      "metadata": {
        "colab": {
          "base_uri": "https://localhost:8080/"
        },
        "id": "cbyze8ojRGXT",
        "outputId": "481818dd-536a-4883-fa5f-fba2a14a6a34",
        "cellView": "form"
      },
      "execution_count": null,
      "outputs": [
        {
          "output_type": "stream",
          "name": "stdout",
          "text": [
            "x_train shape: (60000, 28, 28, 1)\n",
            "60000 train samples\n",
            "10000 test samples\n"
          ]
        }
      ]
    },
    {
      "cell_type": "markdown",
      "source": [
        "**Implement MLP**"
      ],
      "metadata": {
        "id": "wNzzvdwwT6zw"
      }
    },
    {
      "cell_type": "code",
      "source": [
        "## Flatten the image into a long feature vector\n",
        "feature_vector_length = 28*28*1\n",
        "x_train_flat = x_train.reshape(x_train.shape[0], feature_vector_length)\n",
        "x_test_flat  = x_test.reshape(x_test.shape[0], feature_vector_length)"
      ],
      "metadata": {
        "id": "r_xBhJmmWIFc"
      },
      "execution_count": null,
      "outputs": []
    },
    {
      "cell_type": "code",
      "source": [
        "mlp_model = keras.Sequential(\n",
        "    [\n",
        "        keras.Input(shape=feature_vector_length), ## define input layer \n",
        "        layers.Dense(300, activation='relu'),     ## define first hidden layer\n",
        "        layers.Dense(50, activation='relu'),      ## define second hidden layer\n",
        "        layers.Dense(fmnist_num_classes, activation='softmax'), ## define output layer\n",
        "    ]\n",
        ") \n",
        "\n",
        "## Compile the model, while defining the loss function, optimizer, evaluation metrics, etc \n",
        "mlp_model.compile(loss='categorical_crossentropy',\n",
        "                optimizer='adam', metrics=['accuracy'])\n",
        "mlp_model.summary()"
      ],
      "metadata": {
        "colab": {
          "base_uri": "https://localhost:8080/"
        },
        "id": "waZizafuTS3T",
        "outputId": "8a6d61ad-79e5-4752-ca11-5975f87c9b88"
      },
      "execution_count": null,
      "outputs": [
        {
          "output_type": "stream",
          "name": "stdout",
          "text": [
            "Model: \"sequential_1\"\n",
            "_________________________________________________________________\n",
            " Layer (type)                Output Shape              Param #   \n",
            "=================================================================\n",
            " dense_3 (Dense)             (None, 300)               235500    \n",
            "                                                                 \n",
            " dense_4 (Dense)             (None, 50)                15050     \n",
            "                                                                 \n",
            " dense_5 (Dense)             (None, 10)                510       \n",
            "                                                                 \n",
            "=================================================================\n",
            "Total params: 251,060\n",
            "Trainable params: 251,060\n",
            "Non-trainable params: 0\n",
            "_________________________________________________________________\n"
          ]
        }
      ]
    },
    {
      "cell_type": "code",
      "source": [
        "# Configure the model and start training\n",
        "num_epoch = 2 # you can increase the number of training epochs\n",
        "batch_size = 250\n",
        "model_train(mlp_model,x_train_flat, y_train_onehot, num_epoch,batch_size)"
      ],
      "metadata": {
        "colab": {
          "base_uri": "https://localhost:8080/",
          "height": 364
        },
        "id": "8WDVQch7Xt0w",
        "outputId": "9fcdedb1-2b2c-46ee-cb55-9fa6b87ed777"
      },
      "execution_count": null,
      "outputs": [
        {
          "output_type": "stream",
          "name": "stdout",
          "text": [
            "Epoch 1/2\n",
            "192/192 [==============================] - 2s 5ms/step - loss: 0.5783 - accuracy: 0.7997 - val_loss: 0.4404 - val_accuracy: 0.8458\n",
            "Epoch 2/2\n",
            "192/192 [==============================] - 1s 4ms/step - loss: 0.3988 - accuracy: 0.8589 - val_loss: 0.4150 - val_accuracy: 0.8525\n"
          ]
        },
        {
          "output_type": "display_data",
          "data": {
            "text/plain": [
              "<Figure size 432x288 with 1 Axes>"
            ],
            "image/png": "[encoded data removed]"
          },
          "metadata": {
            "needs_background": "light"
          }
        }
      ]
    },
    {
      "cell_type": "code",
      "source": [
        "#@markdown Evaluate the trained MLP model on the test dataset\n",
        "score_mlp = mlp_model.evaluate(x_test_flat, y_test_onehot, verbose=0)\n",
        "print(\"MLP Test loss:\", score_mlp[0])\n",
        "print(\"MLP Test accuracy:\", score_mlp[1])\n",
        "\n",
        "x_test_pred = mlp_model.predict(x_test_flat)\n",
        "x_test_pred = x_test_pred.argmax(1)\n",
        "\n",
        "plot_conf_matrix(y_test, x_test_pred, fmnist_classes)"
      ],
      "metadata": {
        "colab": {
          "base_uri": "https://localhost:8080/",
          "height": 377
        },
        "id": "S-0_uQkbYBUF",
        "outputId": "2665d52f-9bf6-418d-a556-dc0a923b308f",
        "cellView": "form"
      },
      "execution_count": null,
      "outputs": [
        {
          "output_type": "stream",
          "name": "stdout",
          "text": [
            "MLP Test loss: 0.43770238757133484\n",
            "MLP Test accuracy: 0.8424000144004822\n",
            "313/313 [==============================] - 1s 2ms/step\n"
          ]
        },
        {
          "output_type": "display_data",
          "data": {
            "text/plain": [
              "<Figure size 432x288 with 2 Axes>"
            ],
            "image/png": "[encoded data removed]"
          },
          "metadata": {
            "needs_background": "light"
          }
        }
      ]
    },
    {
      "cell_type": "markdown",
      "source": [
        "**Implement CNN**"
      ],
      "metadata": {
        "id": "BRn0qe5hecJg"
      }
    },
    {
      "cell_type": "code",
      "source": [
        "input_shape = (28,28,1)\n",
        "cnn_model = keras.Sequential(\n",
        "    [\n",
        "        keras.Input(shape=input_shape),  ## define input layer \n",
        "        layers.Conv2D(32, kernel_size=(3, 3), activation=\"relu\"), ## first 2d-convolution layer, with 32 filters\n",
        "        layers.MaxPooling2D(pool_size=(2, 2)), ## first max pooling layer\n",
        "        layers.Conv2D(64, kernel_size=(3, 3), activation=\"relu\"), ## second 2d-convolution layer, with 64 filters\n",
        "        layers.MaxPooling2D(pool_size=(2, 2)), ## second max pooling layer\n",
        "        layers.Flatten(), ## Flatten the feature maps\n",
        "        layers.Dropout(0.5), ## Drop 50% of units, which helps prevent overfitting.\n",
        "        layers.Dense(fmnist_num_classes, activation=\"softmax\"), ## output layer\n",
        "    ]\n",
        ")\n",
        "\n",
        "cnn_model.compile(loss='categorical_crossentropy',\n",
        "                optimizer='adam', metrics=['accuracy'])\n",
        "\n",
        "cnn_model.summary()"
      ],
      "metadata": {
        "colab": {
          "base_uri": "https://localhost:8080/"
        },
        "id": "rr6SPGu_T7sh",
        "outputId": "1a2d3e34-2a4d-4896-e601-4b089fdbf4f3"
      },
      "execution_count": null,
      "outputs": [
        {
          "output_type": "stream",
          "name": "stdout",
          "text": [
            "Model: \"sequential_2\"\n",
            "_________________________________________________________________\n",
            " Layer (type)                Output Shape              Param #   \n",
            "=================================================================\n",
            " conv2d (Conv2D)             (None, 26, 26, 32)        320       \n",
            "                                                                 \n",
            " max_pooling2d (MaxPooling2D  (None, 13, 13, 32)       0         \n",
            " )                                                               \n",
            "                                                                 \n",
            " conv2d_1 (Conv2D)           (None, 11, 11, 64)        18496     \n",
            "                                                                 \n",
            " max_pooling2d_1 (MaxPooling  (None, 5, 5, 64)         0         \n",
            " 2D)                                                             \n",
            "                                                                 \n",
            " flatten (Flatten)           (None, 1600)              0         \n",
            "                                                                 \n",
            " dropout (Dropout)           (None, 1600)              0         \n",
            "                                                                 \n",
            " dense_6 (Dense)             (None, 10)                16010     \n",
            "                                                                 \n",
            "=================================================================\n",
            "Total params: 34,826\n",
            "Trainable params: 34,826\n",
            "Non-trainable params: 0\n",
            "_________________________________________________________________\n"
          ]
        }
      ]
    },
    {
      "cell_type": "code",
      "source": [
        "# Configure the model and start training CNN\n",
        "num_epoch = 2\n",
        "batch_size = 250\n",
        "model_train(cnn_model, x_train, y_train_onehot, num_epoch, batch_size)"
      ],
      "metadata": {
        "colab": {
          "base_uri": "https://localhost:8080/",
          "height": 364
        },
        "id": "DLSjKX8HfkvJ",
        "outputId": "c1735f73-ef29-44aa-b14f-5cc48a8a223d"
      },
      "execution_count": null,
      "outputs": [
        {
          "output_type": "stream",
          "name": "stdout",
          "text": [
            "Epoch 1/2\n",
            "192/192 [==============================] - 4s 8ms/step - loss: 0.8353 - accuracy: 0.7063 - val_loss: 0.5011 - val_accuracy: 0.8208\n",
            "Epoch 2/2\n",
            "192/192 [==============================] - 1s 7ms/step - loss: 0.4951 - accuracy: 0.8211 - val_loss: 0.4195 - val_accuracy: 0.8551\n"
          ]
        },
        {
          "output_type": "display_data",
          "data": {
            "text/plain": [
              "<Figure size 432x288 with 1 Axes>"
            ],
            "image/png": "[encoded data removed]"
          },
          "metadata": {
            "needs_background": "light"
          }
        }
      ]
    },
    {
      "cell_type": "code",
      "source": [
        "#@markdown Evaluate the trained CNN model\n",
        "score_cnn = cnn_model.evaluate(x_test, y_test_onehot, verbose=0)\n",
        "print(\"CNN Test loss:\", score_cnn[0])\n",
        "print(\"CNN Test accuracy:\", score_cnn[1])\n",
        "\n",
        "x_test_pred_cnn = cnn_model.predict(x_test)\n",
        "x_test_pred_cnn = x_test_pred_cnn.argmax(1)\n",
        "\n",
        "plot_conf_matrix(y_test, x_test_pred_cnn, fmnist_classes)"
      ],
      "metadata": {
        "colab": {
          "base_uri": "https://localhost:8080/",
          "height": 377
        },
        "cellView": "form",
        "id": "dyRhXIGRg4mO",
        "outputId": "25658994-f212-4830-cf86-5351f31a309b"
      },
      "execution_count": null,
      "outputs": [
        {
          "output_type": "stream",
          "name": "stdout",
          "text": [
            "CNN Test loss: 0.43386006355285645\n",
            "CNN Test accuracy: 0.8495000004768372\n",
            "313/313 [==============================] - 1s 2ms/step\n"
          ]
        },
        {
          "output_type": "display_data",
          "data": {
            "text/plain": [
              "<Figure size 432x288 with 2 Axes>"
            ],
            "image/png": "[encoded data removed]"
          },
          "metadata": {
            "needs_background": "light"
          }
        }
      ]
    },
    {
      "cell_type": "markdown",
      "source": [
        "# News20"
      ],
      "metadata": {
        "id": "hLfU2wkKiyYS"
      }
    },
    {
      "cell_type": "code",
      "source": [
        "news20_train = fetch_20newsgroups(subset=\"train\")\n",
        "news20_train_features = news20_train.data #training set feature\n",
        "news20_train_labels = news20_train.target #training set label"
      ],
      "metadata": {
        "id": "Our7wIUIi0yT"
      },
      "execution_count": null,
      "outputs": []
    },
    {
      "cell_type": "code",
      "source": [
        "news20_test = fetch_20newsgroups(subset=\"test\")\n",
        "news20_test_features = news20_test.data #test set feature\n",
        "news20_test_labels = news20_test.target #test set label"
      ],
      "metadata": {
        "id": "lwYsiwc--tUG"
      },
      "execution_count": null,
      "outputs": []
    },
    {
      "cell_type": "code",
      "source": [
        "news20_classes = news20_train.target_names\n",
        "news20_num_classes = len(news20_classes) # number of classes\n",
        "\n",
        "# convert class vectors to one-hot vectors\n",
        "y_train_news_onehot = keras.utils.to_categorical(news20_train_labels, news20_num_classes)\n",
        "y_test_news_onehot = keras.utils.to_categorical(news20_test_labels, news20_num_classes)"
      ],
      "metadata": {
        "id": "nknb9HkB-zr8"
      },
      "execution_count": null,
      "outputs": []
    },
    {
      "cell_type": "code",
      "source": [
        "X_train, X_val, y_train, y_val = train_test_split(news20_train_features, y_train_news_onehot,\n",
        "                                                    test_size=0.2, ## use 20% data for test\n",
        "                                                    random_state=42, ## set random state for replication of experiment\n",
        "                                                    stratify=y_train_news_onehot ## stratify data instances based on their labels\n",
        "                                                    )   \n"
      ],
      "metadata": {
        "id": "G6q0T-h2CJie"
      },
      "execution_count": null,
      "outputs": []
    },
    {
      "cell_type": "code",
      "source": [
        "X_train[0]"
      ],
      "metadata": {
        "colab": {
          "base_uri": "https://localhost:8080/",
          "height": 178
        },
        "id": "lrH2a7rVKhN6",
        "outputId": "8fc72181-6029-41c5-a008-5d21f8810689"
      },
      "execution_count": null,
      "outputs": [
        {
          "output_type": "execute_result",
          "data": {
            "text/plain": [
              "\"From: karenb@westford.ccur.com (Karen Bircsak)\\nSubject: lost in (TekHVC color) space\\nArticle-I.D.: westford.1993Apr6.160748.3794\\nOrganization: Concurrent Computer Corp.  Westford, MA\\nLines: 33\\n\\n(please respond via email!)\\n\\nHas anybody actually seen the Tek color space stuff working?  I'm not\\nhaving any luck with either the xtici editor from export.lcs.mit.edu or with\\nO'Reilly's ftp-able example xcms from ftp.uu.net.\\n\\nThe O'Reilly example fails for almost every set of inputs because\\nXcmsTekHVCQueryMaxV returns a smaller value than XcmsTekHVCQueryMinV does\\n(which makes no sense to me).\\n\\nThe xtici editor fails in XcmsStoreColors, apparently because the\\nmathematical manipulations of the color specs results in invalid values.  So\\nyou can't actually edit any colors.\\n\\nWe have X11 R5 patch level 22; 8-bit pseudoColor visual.  I've poked around \\nin the xcms code in Xlib, but without some understanding of the theory I have \\nno idea what's going wrong.  Can somebody confirm if either of the \\nabove-mentioned programs work on their systems, or let me know if they fail \\nfor you too?  Please include what hardware/software/patch levels you have.\\n\\nAny hints?\\n\\nPlease respond with email as I don't regularly read this group.\\n\\nThanks,\\nKaren\\n\\n-------------------------------------------------------------------------\\nKaren Bircsak\\nConcurrent Computer Corporation\\n\\nkarenb@westford.ccur.com\\n-------------------------------------------------------------------------\\n\""
            ],
            "application/vnd.google.colaboratory.intrinsic+json": {
              "type": "string"
            }
          },
          "metadata": {},
          "execution_count": 15
        }
      ]
    },
    {
      "cell_type": "markdown",
      "source": [
        "**Create a base line model**"
      ],
      "metadata": {
        "id": "LHszDrFZQets"
      }
    },
    {
      "cell_type": "code",
      "source": [
        "## Tokenize words\n",
        "num_words = 5000\n",
        "tokenizer = Tokenizer(num_words=num_words)\n",
        "tokenizer.fit_on_texts(X_train)\n",
        "\n",
        "## Transforms each text in texts to a sequence of integers.\n",
        "# maxlen = 100 # can be modified. Length of input sequences. \n",
        "# X_train = tokenizer.texts_to_sequences(X_train) \n",
        "# X_val = tokenizer.texts_to_sequences(X_val)\n",
        "# X_test = tokenizer.texts_to_sequences(news20_test_features) \n",
        "\n",
        "## Pad the sequence of each data point to same dimension\n",
        "# X_train = pad_sequences(X_train, padding='post', maxlen=maxlen)\n",
        "# X_val = pad_sequences(X_val, padding='post', maxlen=maxlen)\n",
        "# X_test = pad_sequences(X_test, padding='post', maxlen=maxlen)\n",
        "\n",
        "\n",
        "\n",
        "## Vectorize the tokens with tfidf transformation\n",
        "X_train = tokenizer.texts_to_matrix(X_train, mode=\"tfidf\") \n",
        "X_val = tokenizer.texts_to_matrix(X_val,  mode=\"tfidf\")\n",
        "X_test = tokenizer.texts_to_matrix(news20_test_features,  mode=\"tfidf\") \n",
        "\n",
        "print(\"Train data shape:\", X_train.shape)\n",
        "print(\"Validation data shape:\", X_val.shape)\n"
      ],
      "metadata": {
        "id": "jSj_bLiNQeQK",
        "colab": {
          "base_uri": "https://localhost:8080/"
        },
        "outputId": "4a25ca39-828a-4223-c394-35bcd4ee8011"
      },
      "execution_count": null,
      "outputs": [
        {
          "output_type": "stream",
          "name": "stdout",
          "text": [
            "Train data shape: (9051, 5000)\n",
            "Validation data shape: (2263, 5000)\n"
          ]
        }
      ]
    },
    {
      "cell_type": "markdown",
      "source": [
        "**Create a Baseline MLP model**"
      ],
      "metadata": {
        "id": "xfG1TYLaV0p-"
      }
    },
    {
      "cell_type": "markdown",
      "source": [
        "*Why is my training loss much higher than my testing loss?*\n",
        "A Keras model has two modes: training and testing. Regularization mechanisms, such as Dropout and L1/L2 weight regularization, are turned off at testing time. They are reflected in the training time loss but not in the test time loss.\n",
        "\n",
        "Besides, the training loss that Keras displays is the average of the losses for each batch of training data, over the current epoch. Because your model is changing over time, the loss over the first batches of an epoch is generally higher than over the last batches. This can bring the epoch-wise average down. On the other hand, the testing loss for an epoch is computed using the model as it is at the end of the epoch, resulting in a lower loss.\n",
        "\n",
        "Check out: https://keras.io/getting_started/faq/"
      ],
      "metadata": {
        "id": "5Wg1TqfeE8I_"
      }
    },
    {
      "cell_type": "code",
      "source": [
        "vocab_size = len(tokenizer.word_index) + 1  # used in sequence encoding. Adding again 1 because of reserved 0 index\n",
        "print(vocab_size)\n",
        "maxlen = 100 # used in sequence encoding, indicating length of input sequences. value can be modified. \n",
        "embedding_dim = 600 # used in sequence encoding, indicating dimension of the dense embedding.\n",
        "\n",
        "mlp_structure = [512, 256, 128] # define the number of units in each layer\n",
        "dropout_rate = 0.2 # dropout rate after each Dense layer\n",
        "\n",
        "## Creat the baseline model\n",
        "baseline = create_mlp_word_model(vectorize_format = \"tfidf\",\n",
        "                                 num_class=news20_num_classes, \n",
        "                                 mlp_structure = mlp_structure,\n",
        "                                 dropout_rate = dropout_rate,\n",
        "                                 vocab_size=None, \n",
        "                                 embedding_dim=None, \n",
        "                                 maxlen=None)\n",
        "baseline.summary()"
      ],
      "metadata": {
        "colab": {
          "base_uri": "https://localhost:8080/"
        },
        "id": "RHab3p50Tfab",
        "outputId": "fd25d80c-71d1-46f0-9cdf-0312ebd79de5"
      },
      "execution_count": null,
      "outputs": [
        {
          "output_type": "stream",
          "name": "stdout",
          "text": [
            "119286\n",
            "Model: \"sequential_4\"\n",
            "_________________________________________________________________\n",
            " Layer (type)                Output Shape              Param #   \n",
            "=================================================================\n",
            " dense_16 (Dense)            (None, 512)               2560512   \n",
            "                                                                 \n",
            " dropout_12 (Dropout)        (None, 512)               0         \n",
            "                                                                 \n",
            " dense_17 (Dense)            (None, 256)               131328    \n",
            "                                                                 \n",
            " dropout_13 (Dropout)        (None, 256)               0         \n",
            "                                                                 \n",
            " dense_18 (Dense)            (None, 128)               32896     \n",
            "                                                                 \n",
            " dropout_14 (Dropout)        (None, 128)               0         \n",
            "                                                                 \n",
            " dense_19 (Dense)            (None, 20)                2580      \n",
            "                                                                 \n",
            "=================================================================\n",
            "Total params: 2,727,316\n",
            "Trainable params: 2,727,316\n",
            "Non-trainable params: 0\n",
            "_________________________________________________________________\n"
          ]
        }
      ]
    },
    {
      "cell_type": "code",
      "source": [
        "## Train baseline model\n",
        "model_train(baseline, X_train, y_train, num_epoch=10, batch_size=100, \n",
        "            x_val=X_val, y_val= y_val)"
      ],
      "metadata": {
        "colab": {
          "base_uri": "https://localhost:8080/",
          "height": 688
        },
        "id": "pRM747bnsln7",
        "outputId": "19f1c591-82b2-4545-8700-7c5ecd5b479b"
      },
      "execution_count": null,
      "outputs": [
        {
          "output_type": "stream",
          "name": "stdout",
          "text": [
            "Please input validation data\n",
            "Epoch 1/10\n",
            "91/91 [==============================] - 1s 11ms/step - loss: 1.6276 - accuracy: 0.5479 - val_loss: 0.6192 - val_accuracy: 0.8374\n",
            "Epoch 2/10\n",
            "91/91 [==============================] - 1s 7ms/step - loss: 0.3805 - accuracy: 0.9006 - val_loss: 0.5177 - val_accuracy: 0.8599\n",
            "Epoch 3/10\n",
            "91/91 [==============================] - 0s 5ms/step - loss: 0.1625 - accuracy: 0.9661 - val_loss: 0.5459 - val_accuracy: 0.8595\n",
            "Epoch 4/10\n",
            "91/91 [==============================] - 0s 5ms/step - loss: 0.0848 - accuracy: 0.9827 - val_loss: 0.5662 - val_accuracy: 0.8608\n",
            "Epoch 5/10\n",
            "91/91 [==============================] - 1s 6ms/step - loss: 0.0577 - accuracy: 0.9895 - val_loss: 0.6662 - val_accuracy: 0.8555\n",
            "Epoch 6/10\n",
            "91/91 [==============================] - 0s 5ms/step - loss: 0.0964 - accuracy: 0.9885 - val_loss: 0.7386 - val_accuracy: 0.8621\n",
            "Epoch 7/10\n",
            "91/91 [==============================] - 1s 6ms/step - loss: 0.0779 - accuracy: 0.9894 - val_loss: 0.7165 - val_accuracy: 0.8533\n",
            "Epoch 8/10\n",
            "91/91 [==============================] - 0s 5ms/step - loss: 0.0548 - accuracy: 0.9874 - val_loss: 0.8564 - val_accuracy: 0.8387\n",
            "Epoch 9/10\n",
            "91/91 [==============================] - 0s 5ms/step - loss: 0.0774 - accuracy: 0.9861 - val_loss: 0.8028 - val_accuracy: 0.8484\n",
            "Epoch 10/10\n",
            "91/91 [==============================] - 0s 5ms/step - loss: 0.0414 - accuracy: 0.9912 - val_loss: 0.7690 - val_accuracy: 0.8586\n"
          ]
        },
        {
          "output_type": "display_data",
          "data": {
            "text/plain": [
              "<Figure size 432x288 with 1 Axes>"
            ],
            "image/png": "[encoded data removed]"
          },
          "metadata": {
            "needs_background": "light"
          }
        }
      ]
    },
    {
      "cell_type": "code",
      "source": [
        "score_baseline = baseline.evaluate(X_test, y_test_news_onehot, verbose=0)\n",
        "print(\"Baseline MLP Test loss:\", score_baseline[0])\n",
        "print(\"Baseline MLP Test accuracy:\", score_baseline[1])"
      ],
      "metadata": {
        "colab": {
          "base_uri": "https://localhost:8080/"
        },
        "id": "n17X2nEDO7kc",
        "outputId": "a36c5486-fd88-4bde-dfef-314d2d2383f4"
      },
      "execution_count": null,
      "outputs": [
        {
          "output_type": "stream",
          "name": "stdout",
          "text": [
            "Baseline MLP Test loss: 1.2235838174819946\n",
            "Baseline MLP Test accuracy: 0.7823951244354248\n"
          ]
        }
      ]
    },
    {
      "cell_type": "code",
      "source": [
        "## Define the searching space\n",
        "param_grid = dict(vectorize_format = [\"tfidf\"],\n",
        "                  mlp_structure = [[300,200,100], [100,100,100]], \n",
        "                  dropout_rate = [0.1, 0.2],\n",
        "                  num_class=[news20_num_classes],\n",
        "                  vocab_size = [None],\n",
        "                  maxlen=[None],\n",
        "                  embedding_dim=[None],\n",
        "                  )\n",
        "\n",
        "print(param_grid)\n",
        "\n",
        "\n",
        "## Run GridSearchCV in desired datasets\n",
        "grid_result = param_tunning_mlp(param_grid, create_mlp_word_model, \n",
        "                      X_train, y_train, ## could be changed to other training dataset\n",
        "                      X_val, y_val, ## could be changed to other validation or test dataset\n",
        "                      epochs=10, batch_size=100)"
      ],
      "metadata": {
        "colab": {
          "base_uri": "https://localhost:8080/"
        },
        "id": "NZCerl1RvXV2",
        "outputId": "1ee3bd6e-23a8-4738-9d3f-a0cb7c5efb08"
      },
      "execution_count": null,
      "outputs": [
        {
          "output_type": "stream",
          "name": "stdout",
          "text": [
            "{'vectorize_format': ['tfidf'], 'mlp_structure': [[300, 200, 100], [100, 100, 100]], 'dropout_rate': [0.1, 0.2], 'num_class': [20], 'vocab_size': [None], 'maxlen': [None], 'embedding_dim': [None]}\n",
            "Fitting 3 folds for each of 4 candidates, totalling 12 fits\n"
          ]
        },
        {
          "output_type": "stream",
          "name": "stderr",
          "text": [
            "/usr/local/lib/python3.7/dist-packages/ipykernel_launcher.py:90: DeprecationWarning: KerasClassifier is deprecated, use Sci-Keras (https://github.com/adriangb/scikeras) instead. See https://www.adriangb.com/scikeras/stable/migration.html for help migrating.\n"
          ]
        },
        {
          "output_type": "stream",
          "name": "stdout",
          "text": [
            "Epoch 1/10\n",
            "Epoch 2/10\n",
            "Epoch 3/10\n",
            "Epoch 4/10\n",
            "Epoch 5/10\n",
            "Epoch 6/10\n",
            "Epoch 7/10\n",
            "Epoch 8/10\n",
            "Epoch 9/10\n",
            "Epoch 10/10\n",
            "[CV 1/3] END dropout_rate=0.1, embedding_dim=None, maxlen=None, mlp_structure=[300, 200, 100], num_class=20, vectorize_format=tfidf, vocab_size=None;, score=(train=0.999, test=0.857) total time=   4.0s\n",
            "Epoch 1/10\n",
            "Epoch 2/10\n",
            "Epoch 3/10\n",
            "Epoch 4/10\n",
            "Epoch 5/10\n",
            "Epoch 6/10\n",
            "Epoch 7/10\n",
            "Epoch 8/10\n",
            "Epoch 9/10\n",
            "Epoch 10/10\n",
            "[CV 2/3] END dropout_rate=0.1, embedding_dim=None, maxlen=None, mlp_structure=[300, 200, 100], num_class=20, vectorize_format=tfidf, vocab_size=None;, score=(train=0.999, test=0.853) total time=   3.6s\n",
            "Epoch 1/10\n",
            "Epoch 2/10\n",
            "Epoch 3/10\n",
            "Epoch 4/10\n",
            "Epoch 5/10\n",
            "Epoch 6/10\n",
            "Epoch 7/10\n",
            "Epoch 8/10\n",
            "Epoch 9/10\n",
            "Epoch 10/10\n",
            "[CV 3/3] END dropout_rate=0.1, embedding_dim=None, maxlen=None, mlp_structure=[300, 200, 100], num_class=20, vectorize_format=tfidf, vocab_size=None;, score=(train=1.000, test=0.862) total time=   3.0s\n",
            "Epoch 1/10\n",
            "Epoch 2/10\n",
            "Epoch 3/10\n",
            "Epoch 4/10\n",
            "Epoch 5/10\n",
            "Epoch 6/10\n",
            "Epoch 7/10\n",
            "Epoch 8/10\n",
            "Epoch 9/10\n",
            "Epoch 10/10\n",
            "[CV 1/3] END dropout_rate=0.1, embedding_dim=None, maxlen=None, mlp_structure=[100, 100, 100], num_class=20, vectorize_format=tfidf, vocab_size=None;, score=(train=0.999, test=0.852) total time=   2.9s\n",
            "Epoch 1/10\n",
            "Epoch 2/10\n",
            "Epoch 3/10\n",
            "Epoch 4/10\n",
            "Epoch 5/10\n",
            "Epoch 6/10\n",
            "Epoch 7/10\n",
            "Epoch 8/10\n",
            "Epoch 9/10\n",
            "Epoch 10/10\n",
            "[CV 2/3] END dropout_rate=0.1, embedding_dim=None, maxlen=None, mlp_structure=[100, 100, 100], num_class=20, vectorize_format=tfidf, vocab_size=None;, score=(train=1.000, test=0.855) total time=   2.9s\n",
            "Epoch 1/10\n",
            "Epoch 2/10\n",
            "Epoch 3/10\n",
            "Epoch 4/10\n",
            "Epoch 5/10\n",
            "Epoch 6/10\n",
            "Epoch 7/10\n",
            "Epoch 8/10\n",
            "Epoch 9/10\n",
            "Epoch 10/10\n",
            "[CV 3/3] END dropout_rate=0.1, embedding_dim=None, maxlen=None, mlp_structure=[100, 100, 100], num_class=20, vectorize_format=tfidf, vocab_size=None;, score=(train=1.000, test=0.850) total time=   3.5s\n",
            "Epoch 1/10\n",
            "Epoch 2/10\n",
            "Epoch 3/10\n",
            "Epoch 4/10\n",
            "Epoch 5/10\n",
            "Epoch 6/10\n",
            "Epoch 7/10\n",
            "Epoch 8/10\n",
            "Epoch 9/10\n",
            "Epoch 10/10\n",
            "[CV 1/3] END dropout_rate=0.2, embedding_dim=None, maxlen=None, mlp_structure=[300, 200, 100], num_class=20, vectorize_format=tfidf, vocab_size=None;, score=(train=0.999, test=0.857) total time=   3.2s\n",
            "Epoch 1/10\n",
            "Epoch 2/10\n",
            "Epoch 3/10\n",
            "Epoch 4/10\n",
            "Epoch 5/10\n",
            "Epoch 6/10\n",
            "Epoch 7/10\n",
            "Epoch 8/10\n",
            "Epoch 9/10\n",
            "Epoch 10/10\n",
            "[CV 2/3] END dropout_rate=0.2, embedding_dim=None, maxlen=None, mlp_structure=[300, 200, 100], num_class=20, vectorize_format=tfidf, vocab_size=None;, score=(train=1.000, test=0.851) total time=   4.0s\n",
            "Epoch 1/10\n",
            "Epoch 2/10\n",
            "Epoch 3/10\n",
            "Epoch 4/10\n",
            "Epoch 5/10\n",
            "Epoch 6/10\n",
            "Epoch 7/10\n",
            "Epoch 8/10\n",
            "Epoch 9/10\n",
            "Epoch 10/10\n",
            "[CV 3/3] END dropout_rate=0.2, embedding_dim=None, maxlen=None, mlp_structure=[300, 200, 100], num_class=20, vectorize_format=tfidf, vocab_size=None;, score=(train=0.999, test=0.857) total time=   3.6s\n",
            "Epoch 1/10\n",
            "Epoch 2/10\n",
            "Epoch 3/10\n",
            "Epoch 4/10\n",
            "Epoch 5/10\n",
            "Epoch 6/10\n",
            "Epoch 7/10\n",
            "Epoch 8/10\n",
            "Epoch 9/10\n",
            "Epoch 10/10\n",
            "[CV 1/3] END dropout_rate=0.2, embedding_dim=None, maxlen=None, mlp_structure=[100, 100, 100], num_class=20, vectorize_format=tfidf, vocab_size=None;, score=(train=0.999, test=0.863) total time=   3.6s\n",
            "Epoch 1/10\n",
            "Epoch 2/10\n",
            "Epoch 3/10\n",
            "Epoch 4/10\n",
            "Epoch 5/10\n",
            "Epoch 6/10\n",
            "Epoch 7/10\n",
            "Epoch 8/10\n",
            "Epoch 9/10\n",
            "Epoch 10/10\n",
            "[CV 2/3] END dropout_rate=0.2, embedding_dim=None, maxlen=None, mlp_structure=[100, 100, 100], num_class=20, vectorize_format=tfidf, vocab_size=None;, score=(train=1.000, test=0.854) total time=   3.0s\n",
            "Epoch 1/10\n",
            "Epoch 2/10\n",
            "Epoch 3/10\n",
            "Epoch 4/10\n",
            "Epoch 5/10\n",
            "Epoch 6/10\n",
            "Epoch 7/10\n",
            "Epoch 8/10\n",
            "Epoch 9/10\n",
            "Epoch 10/10\n",
            "[CV 3/3] END dropout_rate=0.2, embedding_dim=None, maxlen=None, mlp_structure=[100, 100, 100], num_class=20, vectorize_format=tfidf, vocab_size=None;, score=(train=0.999, test=0.860) total time=   3.0s\n",
            "Epoch 1/10\n",
            "Epoch 2/10\n",
            "Epoch 3/10\n",
            "Epoch 4/10\n",
            "Epoch 5/10\n",
            "Epoch 6/10\n",
            "Epoch 7/10\n",
            "Epoch 8/10\n",
            "Epoch 9/10\n",
            "Epoch 10/10\n",
            "Mean cross-validated score of the best_estimator: 0.8589106202125549\n",
            "Best params: {'dropout_rate': 0.2, 'embedding_dim': None, 'maxlen': None, 'mlp_structure': [100, 100, 100], 'num_class': 20, 'vectorize_format': 'tfidf', 'vocab_size': None}\n",
            "Test accuracy: 0.8621299266815186\n"
          ]
        }
      ]
    }
  ]
}