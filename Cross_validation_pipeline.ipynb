{
 "cells": [
  {
   "cell_type": "code",
   "execution_count": 1,
   "id": "88c6cf30",
   "metadata": {},
   "outputs": [],
   "source": [
    "import matplotlib.pyplot as plt\n",
    "\n",
    "import numpy as np\n",
    "\n",
    "from sklearn import datasets\n",
    "from sklearn import svm\n",
    "\n",
    "from sklearn.preprocessing import StandardScaler,MinMaxScaler\n",
    "from sklearn.pipeline import Pipeline\n",
    "\n",
    "from sklearn.decomposition import PCA\n",
    "from sklearn.manifold import TSNE\n",
    "\n",
    "from sklearn.datasets import load_digits\n",
    "from sklearn.model_selection import GridSearchCV, train_test_split, StratifiedKFold, cross_val_score,cross_validate\n",
    "\n",
    "from sklearn.inspection import DecisionBoundaryDisplay\n",
    "from sklearn.tree import DecisionTreeClassifier\n",
    "from sklearn.neural_network import MLPClassifier\n",
    "from sklearn.metrics import accuracy_score, auc, RocCurveDisplay\n",
    "\n",
    "\n",
    "\n",
    "import seaborn as sns\n",
    "\n",
    "import pandas as pd"
   ]
  },
  {
   "cell_type": "code",
   "execution_count": 2,
   "id": "9e778477",
   "metadata": {},
   "outputs": [],
   "source": [
    "## Load MNIST data\n",
    "digits = load_digits()\n",
    "n_samples = len(digits.images)\n",
    "data = digits.images.reshape((n_samples, -1))\n",
    "digit_label = digits.target\n"
   ]
  },
  {
   "cell_type": "code",
   "execution_count": 3,
   "id": "8507e8a6",
   "metadata": {},
   "outputs": [
    {
     "name": "stdout",
     "output_type": "stream",
     "text": [
      "digit label: 0\n"
     ]
    },
    {
     "data": {
      "text/plain": [
       "<matplotlib.image.AxesImage at 0x7f8da0ac2400>"
      ]
     },
     "execution_count": 3,
     "metadata": {},
     "output_type": "execute_result"
    },
    {
     "data": {
      "image/png": "[encoded data removed]",
      "text/plain": [
       "<Figure size 72x72 with 1 Axes>"
      ]
     },
     "metadata": {
      "needs_background": "light"
     },
     "output_type": "display_data"
    }
   ],
   "source": [
    "## Show one sample\n",
    "sample_ind = 10\n",
    "print(\"digit label:\",digit_label[sample_ind] )\n",
    "plt.figure(figsize = (1,1))\n",
    "plt.imshow(data[sample_ind].reshape(8,8), cmap = \"gray\")"
   ]
  },
  {
   "cell_type": "code",
   "execution_count": 4,
   "id": "554cf91b",
   "metadata": {},
   "outputs": [
    {
     "name": "stdout",
     "output_type": "stream",
     "text": [
      "Training data shape: (1437, 64)\n",
      "Test data shape: (360, 64)\n"
     ]
    }
   ],
   "source": [
    "## Train test split\n",
    "\n",
    "X_train, X_test, y_train, y_test = train_test_split(data, digit_label,\n",
    "                                                    test_size=0.2, ## use 20% data for test\n",
    "                                                    random_state=1, ## set random state for replication of experiment\n",
    "                                                    stratify=digit_label ## stratify data instances based on their labels\n",
    "                                                    )   \n",
    "print(\"Training data shape:\", X_train.shape)\n",
    "print(\"Test data shape:\", X_test.shape)\n"
   ]
  },
  {
   "cell_type": "markdown",
   "id": "9ecbb3de",
   "metadata": {},
   "source": [
    "# Set up pipeline and gridsearch"
   ]
  },
  {
   "cell_type": "code",
   "execution_count": 5,
   "id": "0e05154b",
   "metadata": {},
   "outputs": [],
   "source": [
    "## Initialize classifiers\n",
    "\n",
    "clf1 = DecisionTreeClassifier(random_state=1)\n",
    "\n",
    "clf2 = MLPClassifier(random_state=1)\n",
    "\n",
    "\n",
    "## Initialize pipeline for Decision Tree and MLP repectively\n",
    "pipe1 = Pipeline([('scaler', StandardScaler()),\n",
    "                  ('clf1', clf1)])\n",
    "\n",
    "pipe2 = Pipeline([('scaler', StandardScaler()),\n",
    "                  ('clf2', clf2)])\n",
    "\n",
    "\n",
    "## Setting up parameter grid\n",
    "\n",
    "# Define the range of hyperparameter to search from\n",
    "# The part can be change if you want to search other combinations of hyperparameters\n",
    "param_grid_decisiontree = [{'clf1__max_depth': list(range(1, 10)) + [None]}]\n",
    "\n",
    "param_grid_mlp = [{'clf2__alpha': [0.1, 0.01, 0.01, 0.001, 0.0001],\n",
    "                   'clf2__hidden_layer_sizes': [(40,), (40,40)]}]\n",
    "\n"
   ]
  },
  {
   "cell_type": "code",
   "execution_count": 6,
   "id": "1da64854",
   "metadata": {},
   "outputs": [
    {
     "name": "stdout",
     "output_type": "stream",
     "text": [
      "{'Decision Tree': GridSearchCV(cv=StratifiedKFold(n_splits=3, random_state=1, shuffle=True),\n",
      "             estimator=Pipeline(steps=[('scaler', StandardScaler()),\n",
      "                                       ('clf1',\n",
      "                                        DecisionTreeClassifier(random_state=1))]),\n",
      "             n_jobs=-1,\n",
      "             param_grid=[{'clf1__max_depth': [1, 2, 3, 4, 5, 6, 7, 8, 9,\n",
      "                                              None]}],\n",
      "             refit='accuracy', scoring=['accuracy']), 'MLP': GridSearchCV(cv=StratifiedKFold(n_splits=3, random_state=1, shuffle=True),\n",
      "             estimator=Pipeline(steps=[('scaler', StandardScaler()),\n",
      "                                       ('clf2',\n",
      "                                        MLPClassifier(random_state=1))]),\n",
      "             n_jobs=-1,\n",
      "             param_grid=[{'clf2__alpha': [0.1, 0.01, 0.01, 0.001, 0.0001],\n",
      "                          'clf2__hidden_layer_sizes': [(40,), (40, 40)]}],\n",
      "             refit='accuracy', scoring=['accuracy'])}\n"
     ]
    }
   ],
   "source": [
    "# Setting up multiple GridSearchCV objects\n",
    "\n",
    "gridcvs = {} \n",
    "inner_cv = StratifiedKFold(n_splits=3, shuffle=True, random_state=1) # inner loop cross-validation with 3 folds\n",
    "\n",
    "for pgrid, est, name in zip((param_grid_decisiontree, param_grid_mlp),\n",
    "                            (pipe1, pipe2),\n",
    "                            ('Decision Tree', 'MLP')):\n",
    "    gcv = GridSearchCV(estimator=est,\n",
    "                       param_grid=pgrid,\n",
    "                       scoring = ['accuracy'], ## scoring metric can be also changed\n",
    "                       n_jobs=-1,\n",
    "                       cv=inner_cv,\n",
    "                       verbose=0,\n",
    "                       refit=\"accuracy\")\n",
    "    gridcvs[name] = gcv\n",
    "    \n",
    "print(gridcvs)"
   ]
  },
  {
   "cell_type": "code",
   "execution_count": 7,
   "id": "a517d807",
   "metadata": {},
   "outputs": [
    {
     "data": {
      "text/plain": [
       "(1437,)"
      ]
     },
     "execution_count": 7,
     "metadata": {},
     "output_type": "execute_result"
    }
   ],
   "source": [
    "y_train.shape"
   ]
  },
  {
   "cell_type": "code",
   "execution_count": 8,
   "id": "02c19d3e",
   "metadata": {},
   "outputs": [
    {
     "name": "stdout",
     "output_type": "stream",
     "text": [
      "Current method: Decision Tree\n",
      "{'clf1__max_depth': 9}\n",
      "\n",
      "\n",
      "{'clf1__max_depth': None}\n",
      "\n",
      "\n",
      "{'clf1__max_depth': 9}\n",
      "\n",
      "\n",
      "outer loop accuracy 82.95% +/- 0.49\n",
      "outer loop AUC 91.44% +/- 0.91\n",
      "\n",
      "\n",
      "Current method: MLP\n",
      "{'clf2__alpha': 0.1, 'clf2__hidden_layer_sizes': (40, 40)}\n",
      "\n",
      "\n",
      "{'clf2__alpha': 0.1, 'clf2__hidden_layer_sizes': (40, 40)}\n",
      "\n",
      "\n",
      "{'clf2__alpha': 0.01, 'clf2__hidden_layer_sizes': (40,)}\n",
      "\n",
      "\n",
      "outer loop accuracy 97.15% +/- 1.39\n",
      "outer loop AUC 99.87% +/- 0.07\n",
      "\n",
      "\n"
     ]
    }
   ],
   "source": [
    "## Define outer loop\n",
    "outer_cv = StratifiedKFold(n_splits=3, shuffle=True, random_state=1)\n",
    "\n",
    "\n",
    "def nested_cross_val(features, labels, gridcvs):\n",
    "    \"\"\" nested cross validation to compare across ML methods.\n",
    "        features: the training dataset,\n",
    "        labels: the corresponding labels for the training data \"\"\"\n",
    "    for method, gridsearch in sorted(gridcvs.items()):\n",
    "        scores = cross_validate(gridsearch, \n",
    "                                       X=features, \n",
    "                                       y=labels, \n",
    "                                       cv=outer_cv,\n",
    "                                       n_jobs=-1,\n",
    "                                       return_estimator = True,\n",
    "                                       scoring = ['accuracy', 'roc_auc_ovr'], ## roc_auc, f1 only works for binary class\n",
    "                                       error_score=\"raise\")\n",
    "\n",
    "        auc = scores['test_roc_auc_ovr']\n",
    "        accuracy = scores['test_accuracy']\n",
    "        estimators = scores['estimator']\n",
    "\n",
    "        print(\"Current method:\",method)\n",
    "        for i in estimators:\n",
    "            print(i.best_params_) # show the best parameter with highest prediction accuracy\n",
    "            print('\\n')\n",
    "        print('outer loop accuracy %.2f%% +/- %.2f' % \n",
    "              (accuracy.mean() * 100, accuracy.std() * 100))\n",
    "        print('outer loop AUC %.2f%% +/- %.2f' % \n",
    "              (auc.mean() * 100, auc.std() * 100))\n",
    "        ## Similarlly, you can also print out other scoring metrics\n",
    "        print('\\n')\n",
    "    \n",
    "\n",
    "nested_cross_val(X_train, y_train, gridcvs)"
   ]
  },
  {
   "cell_type": "code",
   "execution_count": 9,
   "id": "5284fcdf",
   "metadata": {},
   "outputs": [],
   "source": [
    "## Fit the best model on the training set, and predict on the test set\n",
    "\n",
    "def run_test(train_features, train_labels, test_features, test_labels, model_name, paramters):\n",
    "    \"\"\"Since MLP tends to be a better model for this dataset, we fit the model on the entire training set, and\n",
    "    test on the test set.\"\"\"\n",
    "    model_select = GridSearchCV(estimator=model_name,\n",
    "                                param_grid=paramters,\n",
    "                                scoring='accuracy',\n",
    "                                n_jobs=-1,\n",
    "                                cv=inner_cv,\n",
    "                                verbose=1,\n",
    "                                refit=True)\n",
    "\n",
    "    ## Fit the model on the entire training dataset\n",
    "    model_select.fit(train_features, train_labels)\n",
    "    \n",
    "    best_model = model_select.best_estimator_\n",
    "        \n",
    "    train_acc = accuracy_score(y_true=train_labels, y_pred=best_model.predict(train_features))\n",
    "    test_acc = accuracy_score(y_true=test_labels, y_pred=best_model.predict(test_features))\n",
    "\n",
    "    print('Accuracy %.2f%% (average over k-fold CV test folds)' %\n",
    "          (100 * model_select.best_score_))\n",
    "    print('Best Parameters: %s' % model_select.best_params_)\n",
    "\n",
    "    print('Training Accuracy: %.2f%%' % (100 * train_acc))\n",
    "    print('Test Accuracy: %.2f%%' % (100 * test_acc))\n",
    "    \n",
    "\n",
    "## Standardize the test set\n",
    "scaler = StandardScaler()\n",
    "X_test = scaler.fit_transform(X_test)"
   ]
  },
  {
   "cell_type": "code",
   "execution_count": 10,
   "id": "8c7bdef3",
   "metadata": {},
   "outputs": [
    {
     "name": "stdout",
     "output_type": "stream",
     "text": [
      "Fitting 3 folds for each of 10 candidates, totalling 30 fits\n",
      "Accuracy 97.22% (average over k-fold CV test folds)\n",
      "Best Parameters: {'alpha': 0.1, 'hidden_layer_sizes': (100,)}\n",
      "Training Accuracy: 100.00%\n",
      "Test Accuracy: 81.67%\n"
     ]
    }
   ],
   "source": [
    "param_grid_mlp =  [{'alpha': [0.1, 0.01, 0.01, 0.001, 0.0001],\n",
    "                    'hidden_layer_sizes': [(40,), (100,)]}]\n",
    "run_test(X_train, y_train, X_test, y_test, clf2, param_grid_mlp)"
   ]
  },
  {
   "cell_type": "code",
   "execution_count": null,
   "id": "ab1a6e0f",
   "metadata": {},
   "outputs": [],
   "source": []
  }
 ],
 "metadata": {
  "kernelspec": {
   "display_name": "Python 3",
   "language": "python",
   "name": "python3"
  },
  "language_info": {
   "codemirror_mode": {
    "name": "ipython",
    "version": 3
   },
   "file_extension": ".py",
   "mimetype": "text/x-python",
   "name": "python",
   "nbconvert_exporter": "python",
   "pygments_lexer": "ipython3",
   "version": "3.8.8"
  }
 },
 "nbformat": 4,
 "nbformat_minor": 5
}
