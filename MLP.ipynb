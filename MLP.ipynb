{
 "cells": [
  {
   "cell_type": "code",
   "execution_count": 29,
   "id": "7d425377",
   "metadata": {},
   "outputs": [],
   "source": [
    "# Imports\n",
    "import pathlib\n",
    "\n",
    "import torch\n",
    "import numpy as np\n",
    "import matplotlib.pyplot as plt\n",
    "\n",
    "import random\n",
    "\n",
    "import torch.nn as nn\n",
    "import torch.optim as optim\n",
    "\n",
    "from torchvision.utils import make_grid\n",
    "import torchvision.transforms as transforms\n",
    "from torchvision.datasets import ImageFolder\n",
    "from torch.utils.data import DataLoader, TensorDataset\n",
    "\n",
    "from tqdm.auto import tqdm\n",
    "from IPython.display import display\n",
    "\n",
    "from sklearn import datasets\n",
    "from sklearn.preprocessing import StandardScaler\n",
    "from sklearn.manifold import TSNE\n",
    "\n",
    "import pandas as pd\n",
    "import seaborn as sns\n",
    "\n"
   ]
  },
  {
   "cell_type": "markdown",
   "id": "8f1cd173",
   "metadata": {},
   "source": [
    "The codes of this notebook are adopted from: https://deeplearning.neuromatch.io/tutorials/W1D3_MultiLayerPerceptrons/student/W1D3_Tutorial2.html"
   ]
  },
  {
   "cell_type": "markdown",
   "id": "222719ea",
   "metadata": {},
   "source": [
    "# Utility codes for tran-test split, and Model training Pipeline"
   ]
  },
  {
   "cell_type": "code",
   "execution_count": 2,
   "id": "7166ce22",
   "metadata": {},
   "outputs": [],
   "source": [
    "def train_test_classification(net, criterion, optimizer, \n",
    "                              train_loader,test_loader, num_epochs=1, verbose=True,\n",
    "                              training_plot=True, device='cpu'):\n",
    "    \n",
    "    net.to(device) \n",
    "    net.train()\n",
    "    training_losses = []\n",
    "    for epoch in tqdm(range(num_epochs)):  # Loop over the dataset multiple times\n",
    "        running_loss = 0.0\n",
    "        for i, data in enumerate(train_loader, 0):\n",
    "          # Get the inputs; data is a list of [inputs, labels]\n",
    "            inputs, labels = data\n",
    "            inputs = inputs.to(device).float()\n",
    "            labels = labels.to(device).long()\n",
    "\n",
    "          # Zero the parameter gradients\n",
    "            optimizer.zero_grad()\n",
    "\n",
    "          # forward + backward + optimize\n",
    "            outputs = net(inputs)\n",
    "\n",
    "            loss = criterion(outputs, labels)\n",
    "            loss.backward()\n",
    "            optimizer.step()\n",
    "\n",
    "          # Print statistics\n",
    "            if verbose:\n",
    "                training_losses += [loss.item()]\n",
    "\n",
    "    net.eval()\n",
    "\n",
    "    def test(data_loader):\n",
    "        correct = 0\n",
    "        total = 0\n",
    "        for data in data_loader:\n",
    "            inputs, labels = data\n",
    "            inputs = inputs.to(device).float()\n",
    "            labels = labels.to(device).long()\n",
    "\n",
    "            outputs = net(inputs)\n",
    "            _, predicted = torch.max(outputs, 1)\n",
    "            total += labels.size(0)\n",
    "            correct += (predicted == labels).sum().item()\n",
    "\n",
    "        acc = 100 * correct / total\n",
    "        return total, acc\n",
    "\n",
    "    train_total, train_acc = test(train_loader)\n",
    "    test_total, test_acc = test(test_loader)\n",
    "\n",
    "    if verbose:\n",
    "        print(f'\\nAccuracy on the {train_total} training samples: {train_acc:0.2f}')\n",
    "        print(f'Accuracy on the {test_total} testing samples: {test_acc:0.2f}\\n')\n",
    "\n",
    "    if training_plot:\n",
    "        plt.plot(training_losses)\n",
    "        plt.xlabel('Batch')\n",
    "        plt.ylabel('Training loss')\n",
    "        plt.show()\n",
    "\n",
    "    return train_acc, test_acc\n",
    "\n",
    "\n",
    "# @markdown `shuffle_and_split_data(X, y, seed)`\n",
    "def shuffle_and_split_data(X, y, percent_test, seed):\n",
    "  # Set seed for reproducibility\n",
    "    torch.manual_seed(seed)\n",
    "  # Number of samples\n",
    "    N = X.shape[0]\n",
    "  # Shuffle data\n",
    "    shuffled_indices = torch.randperm(N)   # Get indices to shuffle data, could use torch.randperm\n",
    "    X = X[shuffled_indices]\n",
    "    y = y[shuffled_indices]\n",
    "\n",
    "  # Split data into train/test\n",
    "    test_size = int(percent_test * N)    # Assign test datset size using 20% of samples\n",
    "    X_test = X[:test_size]\n",
    "    y_test = y[:test_size]\n",
    "    X_train = X[test_size:]\n",
    "    y_train = y[test_size:]\n",
    "\n",
    "    return X_test, y_test, X_train, y_train"
   ]
  },
  {
   "cell_type": "markdown",
   "id": "9b742208",
   "metadata": {},
   "source": [
    "# Set DEVICE and seed"
   ]
  },
  {
   "cell_type": "code",
   "execution_count": 3,
   "id": "6146adbd",
   "metadata": {},
   "outputs": [],
   "source": [
    "def set_device():\n",
    "    device = \"cuda\" if torch.cuda.is_available() else \"cpu\"\n",
    "    if device != \"cuda\":\n",
    "        print(\"GPU is not enabled in this notebook. \\n\"\n",
    "          \"You can switch to Colab. If you want to enable GPU, in the menu under `Runtime` -> \\n\"\n",
    "          \"`Hardware accelerator.` and select `GPU` from the dropdown menu\")\n",
    "    else:\n",
    "        print(\"GPU is enabled in this notebook\")\n",
    "\n",
    "    return device\n",
    "\n",
    "\n",
    "def set_seed(seed=None, seed_torch=True):\n",
    "    if seed is None:\n",
    "        seed = np.random.choice(2 ** 32)\n",
    "        random.seed(seed)\n",
    "        np.random.seed(seed)\n",
    "    if seed_torch:\n",
    "        torch.manual_seed(seed)\n",
    "        torch.cuda.manual_seed_all(seed)\n",
    "        torch.cuda.manual_seed(seed)\n",
    "        torch.backends.cudnn.benchmark = False\n",
    "        torch.backends.cudnn.deterministic = True\n",
    "\n",
    "    print(f'Random seed {seed} has been set.')\n",
    "\n",
    "\n",
    "# In case that `DataLoader` is used\n",
    "def seed_worker(worker_id):\n",
    "    worker_seed = torch.initial_seed() % 2**32\n",
    "    np.random.seed(worker_seed)\n",
    "    random.seed(worker_seed)\n"
   ]
  },
  {
   "cell_type": "markdown",
   "id": "5a8ac964",
   "metadata": {},
   "source": [
    "# Load MNIST data"
   ]
  },
  {
   "cell_type": "code",
   "execution_count": 4,
   "id": "66d71286",
   "metadata": {},
   "outputs": [
    {
     "name": "stdout",
     "output_type": "stream",
     "text": [
      "MNIST dataset shape: torch.Size([1797, 64])\n",
      "MNIST dataset label shape: torch.Size([1797])\n"
     ]
    }
   ],
   "source": [
    "## Load MNIST data\n",
    "digits = datasets.load_digits()\n",
    "n_samples = len(digits.images)\n",
    "digit_data = digits.images.reshape((n_samples, -1))\n",
    "digit_label = digits.target\n",
    "\n",
    "## Convert numpy arrays to tensors\n",
    "digit_data = torch.tensor(digit_data)\n",
    "digit_label = torch.tensor(digit_label)\n",
    "\n",
    "print(\"MNIST dataset shape:\",digit_data.shape)\n",
    "print(\"MNIST dataset label shape:\",digit_label.shape)"
   ]
  },
  {
   "cell_type": "markdown",
   "id": "bf77ccf0",
   "metadata": {},
   "source": [
    "# Make Train-test split"
   ]
  },
  {
   "cell_type": "code",
   "execution_count": 5,
   "id": "08db9da0",
   "metadata": {},
   "outputs": [
    {
     "name": "stdout",
     "output_type": "stream",
     "text": [
      "Random seed 2 has been set.\n",
      "GPU is not enabled in this notebook. \n",
      "You can switch to Colab. If you want to enable GPU, in the menu under `Runtime` -> \n",
      "`Hardware accelerator.` and select `GPU` from the dropdown menu\n"
     ]
    }
   ],
   "source": [
    "## Set seed for reproducibility \n",
    "SEED = 2 \n",
    "set_seed(seed=SEED)\n",
    "DEVICE = set_device() # Use CPU or GPU"
   ]
  },
  {
   "cell_type": "code",
   "execution_count": 6,
   "id": "0dfd1648",
   "metadata": {},
   "outputs": [],
   "source": [
    "## Train-test split. Use 20% of samples for testing.\n",
    "X_test, y_test, X_train, y_train = shuffle_and_split_data(digit_data, digit_label, 0.2, seed=SEED)\n",
    "\n",
    "batch_size = 128\n",
    "g_seed = torch.Generator()\n",
    "g_seed.manual_seed(SEED)\n",
    "\n",
    "\n",
    "## Create dataloaders for Pytorch implementation \n",
    "train_data = TensorDataset(X_train, y_train)\n",
    "train_loader = DataLoader(train_data,\n",
    "                          batch_size=batch_size,\n",
    "                          drop_last=True,\n",
    "                          shuffle=True,\n",
    "                          worker_init_fn=seed_worker,\n",
    "                          generator=g_seed,\n",
    "                          )\n",
    "\n",
    "test_data = TensorDataset(X_test, y_test)\n",
    "test_loader = DataLoader(test_data, \n",
    "                         batch_size=batch_size,\n",
    "                         shuffle=False, \n",
    "                         worker_init_fn=seed_worker,\n",
    "                         generator=g_seed,\n",
    "                         )\n",
    "\n",
    "all_data = TensorDataset(digit_data, digit_label)\n",
    "all_data_loader = DataLoader(all_data, \n",
    "                         batch_size=batch_size,\n",
    "                         shuffle=False, \n",
    "                         worker_init_fn=seed_worker,\n",
    "                         generator=g_seed,\n",
    "                         )\n",
    "\n"
   ]
  },
  {
   "cell_type": "code",
   "execution_count": 7,
   "id": "c5f7059d",
   "metadata": {},
   "outputs": [
    {
     "data": {
      "image/png": "[encoded data removed]",
      "text/plain": [
       "<Figure size 360x187.2 with 10 Axes>"
      ]
     },
     "metadata": {},
     "output_type": "display_data"
    },
    {
     "name": "stdout",
     "output_type": "stream",
     "text": [
      "Corresponding labels: tensor([0, 2, 5, 9, 6, 2, 2, 1, 5, 4])\n"
     ]
    }
   ],
   "source": [
    "def plot_gallery(title, images, image_shape, n_col, n_row, cmap=\"gray\"):\n",
    "    ## Input array \"Images\" is 2-dimensional.\n",
    "    fig, axs = plt.subplots(\n",
    "        nrows=n_row,\n",
    "        ncols=n_col,\n",
    "        figsize=(1.0 * n_col, 1.3 * n_row),\n",
    "        facecolor=\"white\",\n",
    "        constrained_layout=True,\n",
    "    )\n",
    "    fig.set_constrained_layout_pads(w_pad=0.01, h_pad=0.1, hspace=0, wspace=0)\n",
    "    fig.set_edgecolor(\"black\")\n",
    "    fig.suptitle(title, size=16)\n",
    "    for ax, img_vect in zip(axs.flat, images):\n",
    "        vmax = max(img_vect.max(), -img_vect.min())\n",
    "        im = ax.imshow(\n",
    "            img_vect.reshape(image_shape),\n",
    "            cmap=cmap,\n",
    "            #interpolation=\"nearest\",\n",
    "            vmin=-vmax,\n",
    "            vmax=vmax,\n",
    "        )\n",
    "        ax.axis(\"off\")\n",
    "\n",
    "    plt.show()\n",
    "    \n",
    "plot_gallery(\"Samples of training\", X_train[:10], (8,8),5, 2)\n",
    "print(\"Corresponding labels:\",y_train[:10])"
   ]
  },
  {
   "cell_type": "markdown",
   "id": "9581377a",
   "metadata": {},
   "source": [
    "# MLP model"
   ]
  },
  {
   "cell_type": "code",
   "execution_count": 8,
   "id": "87d249b3",
   "metadata": {},
   "outputs": [],
   "source": [
    "class Net(nn.Module):\n",
    "    def __init__(self, actv, input_feature_num, hidden_unit_nums, output_feature_num):\n",
    "        \n",
    "        \n",
    "        super(Net, self).__init__()\n",
    "        self.input_feature_num = input_feature_num # Save the input size for reshapinng later\n",
    "        self.MLP = nn.Sequential() # Initialize layers of MLP\n",
    "\n",
    "        in_num = input_feature_num # Initialize the temporary input feature to each layer\n",
    "        for i in range(len(hidden_unit_nums)):\n",
    "            # Loop over layers and create each one\n",
    "            out_num = hidden_unit_nums[i] # Assign the current layer hidden unit from list\n",
    "            layer = nn.Linear(in_num, out_num) # Use nn.Linear to define the layer\n",
    "            in_num = out_num # Assign next layer input using current layer output\n",
    "            self.MLP.add_module(f\"Linear_{i}\", layer) # Append layer to the model with a name\n",
    "\n",
    "            actv_layer = eval(f\"nn.{actv}\") # Assign activation function (eval allows us to instantiate object from string)\n",
    "            self.MLP.add_module(f\"Activation_{i}\", actv_layer) # Append activation to the model with a name\n",
    "\n",
    "        out_layer = nn.Linear(in_num, output_feature_num) # Create final layer\n",
    "        self.MLP.add_module('Output_Linear', out_layer) # Append the final layer\n",
    "\n",
    "    def forward(self, x):\n",
    "        \n",
    "        # Reshape inputs to (batch_size, input_feature_num)\n",
    "        # Just in case the input vector is not 2D, like an image!\n",
    "        x = x.view(-1, self.input_feature_num)\n",
    "\n",
    "        logits = self.MLP(x) # forward pass of MLP\n",
    "        return logits"
   ]
  },
  {
   "cell_type": "code",
   "execution_count": 9,
   "id": "767b2668",
   "metadata": {},
   "outputs": [
    {
     "data": {
      "text/plain": [
       "Net(\n",
       "  (MLP): Sequential(\n",
       "    (Linear_0): Linear(in_features=64, out_features=128, bias=True)\n",
       "    (Activation_0): ReLU()\n",
       "    (Linear_1): Linear(in_features=128, out_features=100, bias=True)\n",
       "    (Activation_1): ReLU()\n",
       "    (Linear_2): Linear(in_features=100, out_features=50, bias=True)\n",
       "    (Activation_2): ReLU()\n",
       "    (Output_Linear): Linear(in_features=50, out_features=10, bias=True)\n",
       "  )\n",
       ")"
      ]
     },
     "execution_count": 9,
     "metadata": {},
     "output_type": "execute_result"
    }
   ],
   "source": [
    "activation = \"ReLU()\"\n",
    "input_feature_num = 64 #input feature size, which is a grayscale image with width = height = 8\n",
    "hidden_unit_nums = [128, 100, 50] # Set the number of unit in each hidden layer\n",
    "output_feature_num = 10\n",
    "\n",
    "## Initialize a MLP model\n",
    "mlp_1 = Net(actv = activation,\n",
    "            input_feature_num = input_feature_num,\n",
    "            hidden_unit_nums = hidden_unit_nums,\n",
    "            output_feature_num = output_feature_num)\n",
    "\n",
    "mlp_1"
   ]
  },
  {
   "cell_type": "markdown",
   "id": "6c4a35cf",
   "metadata": {},
   "source": [
    "Check the number of parameters"
   ]
  },
  {
   "cell_type": "code",
   "execution_count": 38,
   "id": "72eb57a2",
   "metadata": {},
   "outputs": [
    {
     "name": "stdout",
     "output_type": "stream",
     "text": [
      "MLP.Linear_0.weight torch.Size([128, 64])\n",
      "MLP.Linear_0.bias torch.Size([128])\n",
      "MLP.Linear_1.weight torch.Size([100, 128])\n",
      "MLP.Linear_1.bias torch.Size([100])\n",
      "MLP.Linear_2.weight torch.Size([50, 100])\n",
      "MLP.Linear_2.bias torch.Size([50])\n",
      "MLP.Output_Linear.weight torch.Size([10, 50])\n",
      "MLP.Output_Linear.bias torch.Size([10])\n"
     ]
    }
   ],
   "source": [
    "def count_param(model):\n",
    "    for name, param in model.named_parameters():\n",
    "        if param.requires_grad:\n",
    "            print(name, param.data.shape)\n",
    "            \n",
    "count_param(mlp_1)\n",
    "        "
   ]
  },
  {
   "cell_type": "code",
   "execution_count": 10,
   "id": "2826bb80",
   "metadata": {
    "scrolled": false
   },
   "outputs": [
    {
     "data": {
      "application/vnd.jupyter.widget-view+json": {
       "model_id": "275a8a9558794060a4076d26df794a0a",
       "version_major": 2,
       "version_minor": 0
      },
      "text/plain": [
       "  0%|          | 0/30 [00:00<?, ?it/s]"
      ]
     },
     "metadata": {},
     "output_type": "display_data"
    },
    {
     "name": "stdout",
     "output_type": "stream",
     "text": [
      "\n",
      "Accuracy on the 1408 training samples: 98.44\n",
      "Accuracy on the 359 testing samples: 99.16\n",
      "\n"
     ]
    },
    {
     "data": {
      "image/png": "[encoded data removed]",
      "text/plain": [
       "<Figure size 432x288 with 1 Axes>"
      ]
     },
     "metadata": {
      "needs_background": "light"
     },
     "output_type": "display_data"
    }
   ],
   "source": [
    "## Start training\n",
    "criterion = nn.CrossEntropyLoss() # define loss for multiclass classification\n",
    "optimizer = optim.Adam(mlp_1.parameters(), lr=2e-4)\n",
    "train_accu, test_accu = train_test_classification(mlp_1, criterion, optimizer,\n",
    "                                train_loader, test_loader,\n",
    "                                num_epochs=30, device=DEVICE)"
   ]
  },
  {
   "cell_type": "markdown",
   "id": "acec6d9f",
   "metadata": {},
   "source": [
    "# Extract features from MLP "
   ]
  },
  {
   "cell_type": "code",
   "execution_count": 16,
   "id": "77256590",
   "metadata": {},
   "outputs": [],
   "source": [
    "## Get the layer weights\n",
    "# fc1_weights = net.mlp[0].weight.view(64, 3, 32, 32).detach().cpu()\n",
    "# fc1_weights /= torch.max(torch.abs(fc1_weights))\n",
    "\n",
    "## Extract an layer's activation\n",
    "def get_feature(net, net_layer, data, hooked_layer):\n",
    "    \"\"\"net: the Model\n",
    "       net_layer: a specific layer of model in __init__\n",
    "       data: the input data\n",
    "       hooked_layer: layer name, a str\"\"\"\n",
    "    device = DEVICE\n",
    "    \n",
    "    activation = {}\n",
    "    def get_activation(name):\n",
    "        def hook(model, input, output):\n",
    "            activation[name] = output.detach()\n",
    "        return hook\n",
    "    \n",
    "    net_layer.register_forward_hook(get_activation(hooked_layer))\n",
    "    \n",
    "    x = data.to(device).float()\n",
    "    output = net(x)\n",
    "    \n",
    "    return activation[hooked_layer]"
   ]
  },
  {
   "cell_type": "markdown",
   "id": "9cf84223",
   "metadata": {},
   "source": [
    "Using a forward hook to store one activation from a specific layer."
   ]
  },
  {
   "cell_type": "code",
   "execution_count": 32,
   "id": "3f909db7",
   "metadata": {},
   "outputs": [
    {
     "name": "stdout",
     "output_type": "stream",
     "text": [
      "torch.Size([1797, 50])\n",
      "torch.Size([1797, 50])\n"
     ]
    }
   ],
   "source": [
    "## Get the activation for certain input data\n",
    "\n",
    "MLP_Linear_2 = get_feature(mlp_1, mlp_1.MLP.Linear_2, digit_data, 'Linear_2')\n",
    "MLP_ReLu2 = get_feature(mlp_1, mlp_1.MLP.Activation_2, digit_data, 'Activation_2') \n",
    "\n",
    "print(MLP_Linear_2.shape)\n",
    "print(MLP_ReLu2.shape)\n",
    "\n"
   ]
  },
  {
   "cell_type": "markdown",
   "id": "88b76c04",
   "metadata": {},
   "source": [
    "We can now use the trained MLP model as a feature extractor."
   ]
  },
  {
   "cell_type": "code",
   "execution_count": 34,
   "id": "260f9b40",
   "metadata": {},
   "outputs": [
    {
     "name": "stdout",
     "output_type": "stream",
     "text": [
      "(1797, 50)\n",
      "[t-SNE] Computing 121 nearest neighbors...\n",
      "[t-SNE] Indexed 1797 samples in 0.001s...\n",
      "[t-SNE] Computed neighbors for 1797 samples in 0.074s...\n",
      "[t-SNE] Computed conditional probabilities for sample 1000 / 1797\n",
      "[t-SNE] Computed conditional probabilities for sample 1797 / 1797\n",
      "[t-SNE] Mean sigma: 1.628999\n"
     ]
    },
    {
     "name": "stderr",
     "output_type": "stream",
     "text": [
      "/Users/chenxiliao/opt/anaconda3/lib/python3.8/site-packages/sklearn/manifold/_t_sne.py:810: FutureWarning: The default learning rate in TSNE will change from 200.0 to 'auto' in 1.2.\n",
      "  warnings.warn(\n",
      "/Users/chenxiliao/opt/anaconda3/lib/python3.8/site-packages/sklearn/manifold/_t_sne.py:996: FutureWarning: The PCA initialization in TSNE will change to have the standard deviation of PC1 equal to 1e-4 in 1.2. This will ensure better convergence.\n",
      "  warnings.warn(\n"
     ]
    },
    {
     "name": "stdout",
     "output_type": "stream",
     "text": [
      "[t-SNE] KL divergence after 250 iterations with early exaggeration: 54.417789\n",
      "[t-SNE] KL divergence after 300 iterations: 0.875947\n"
     ]
    }
   ],
   "source": [
    "## Visualize features with tSNE\n",
    "perplexity = 40\n",
    "tsne = TSNE(n_components=2, verbose=1, perplexity=perplexity, n_iter=300, init='pca', random_state = 1)\n",
    "\n",
    "train_std =  StandardScaler().fit_transform(MLP_ReLu2) \n",
    "print(train_std.shape)\n",
    "tsne_results = tsne.fit_transform(train_std)\n",
    "\n",
    "tsne_df = pd.DataFrame({\"feature_1\":tsne_results[:,0], \"feature_2\":tsne_results[:,1], \"class_label\":digit_label})\n",
    "\n",
    "def plot_tSNE(X_fitted):\n",
    "    \"\"\"Plot tSNE results\"\"\"\n",
    "    \n",
    "    hue_order = list(range(10))\n",
    "    \n",
    "    plt.figure(figsize =(10, 10))\n",
    "    \n",
    "    sns.set_context(\"notebook\")\n",
    "    sns.set_style(\"ticks\")\n",
    "    sns.scatterplot(data=X_fitted, \n",
    "                    x=\"feature_1\", \n",
    "                    y=\"feature_2\", \n",
    "                    hue=\"class_label\",\n",
    "                    palette=\"deep\",\n",
    "                    hue_order = hue_order,\n",
    "                    legend=True,\n",
    "                    s = 50,\n",
    "                    alpha = 0.5)\n",
    "    sns.despine()\n",
    "    \n",
    "    plt.gca().set(\n",
    "        aspect=\"equal\",\n",
    "        title=\"2-dimensional dataset with tSNE\",\n",
    "        xlabel=\"first tSNE feature\",\n",
    "        ylabel=\"second tSNE feature\",\n",
    "    )\n",
    "    \n",
    "    plt.legend(loc='center left', title=\"label\", bbox_to_anchor=(1, 0.5))\n",
    "    plt.show()\n",
    "     \n",
    "plot_tSNE(tsne_df)"
   ]
  },
  {
   "cell_type": "markdown",
   "id": "b6fb47c0",
   "metadata": {},
   "source": [
    "# Compare the MLP model with different initialization"
   ]
  },
  {
   "cell_type": "code",
   "execution_count": null,
   "id": "4df6424d",
   "metadata": {},
   "outputs": [],
   "source": [
    "N = 10  # Number of trials\n",
    "gains = np.linspace(1/N, 3.0, N)\n",
    "test_accs = []\n",
    "train_accs = []\n",
    "mode = 'uniform'\n",
    "for gain in gains:\n",
    "    \n",
    "    print(f'\\ngain: {gain}')\n",
    "\n",
    "    def init_weights(m, mode='normal'):\n",
    "        if type(m) == nn.Linear:\n",
    "            torch.nn.init.xavier_normal_(m.weight, gain)\n",
    "\n",
    "    negative_slope = 0.1\n",
    "    activation = f'LeakyReLU({negative_slope})'\n",
    "    set_seed(seed=SEED)\n",
    "    net = Net(actv = activation,\n",
    "            input_feature_num = input_feature_num,\n",
    "            hidden_unit_nums = hidden_unit_nums,\n",
    "            output_feature_num = output_feature_num)\n",
    "    net.apply(init_weights)\n",
    "    criterion = nn.CrossEntropyLoss()\n",
    "\n",
    "    optimizer = optim.SGD(net.parameters(), lr=1e-2)\n",
    "    train_acc, test_acc = train_test_classification(net, criterion, optimizer,\n",
    "                                                  train_loader,\n",
    "                                                  test_loader,\n",
    "                                                  num_epochs=50,\n",
    "                                                  verbose=True,\n",
    "                                                  device=DEVICE)\n",
    "    test_accs += [test_acc]\n",
    "    train_accs += [train_acc]\n",
    "\n",
    "best_gain = gains[np.argmax(train_accs)]\n",
    "plt.plot(gains, test_accs, label='Test accuracy')\n",
    "plt.plot(gains, train_accs, label='Train accuracy')\n",
    "plt.scatter(best_gain, max(train_accs),\n",
    "            label=f'best gain={best_gain:.1f}',\n",
    "            c='k', marker ='x')\n",
    "\n",
    "# Calculate and plot the theoretical gain\n",
    "theoretical_gain = np.sqrt(2.0 / (1 + negative_slope ** 2))\n",
    "plt.scatter(theoretical_gain, max(train_accs),\n",
    "            label=f'theoretical gain={theoretical_gain:.2f}',\n",
    "            c='g', marker ='x')\n",
    "plt.legend()\n",
    "plt.plot()"
   ]
  },
  {
   "cell_type": "code",
   "execution_count": 49,
   "id": "929b41cb",
   "metadata": {},
   "outputs": [
    {
     "data": {
      "text/plain": [
       "0.24740037808939686"
      ]
     },
     "execution_count": 49,
     "metadata": {},
     "output_type": "execute_result"
    }
   ],
   "source": [
    "from random import random\n",
    "random()"
   ]
  }
 ],
 "metadata": {
  "kernelspec": {
   "display_name": "Python 3",
   "language": "python",
   "name": "python3"
  },
  "language_info": {
   "codemirror_mode": {
    "name": "ipython",
    "version": 3
   },
   "file_extension": ".py",
   "mimetype": "text/x-python",
   "name": "python",
   "nbconvert_exporter": "python",
   "pygments_lexer": "ipython3",
   "version": "3.8.8"
  }
 },
 "nbformat": 4,
 "nbformat_minor": 5
}
